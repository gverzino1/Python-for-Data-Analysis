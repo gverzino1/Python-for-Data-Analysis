{
 "cells": [
  {
   "cell_type": "code",
   "execution_count": 3,
   "metadata": {},
   "outputs": [],
   "source": [
    "from datetime import datetime\n",
    "import pandas as pd\n",
    "import numpy as np"
   ]
  },
  {
   "cell_type": "code",
   "execution_count": 5,
   "metadata": {},
   "outputs": [
    {
     "data": {
      "text/plain": [
       "datetime.datetime(2020, 8, 19, 10, 14, 52, 46736)"
      ]
     },
     "execution_count": 5,
     "metadata": {},
     "output_type": "execute_result"
    }
   ],
   "source": [
    "datetime.now()"
   ]
  },
  {
   "cell_type": "code",
   "execution_count": 8,
   "metadata": {},
   "outputs": [
    {
     "data": {
      "text/plain": [
       "8"
      ]
     },
     "execution_count": 8,
     "metadata": {},
     "output_type": "execute_result"
    }
   ],
   "source": [
    "datetime.now().month"
   ]
  },
  {
   "cell_type": "code",
   "execution_count": 14,
   "metadata": {},
   "outputs": [],
   "source": [
    "delta = datetime(2011,11,7) - datetime.now()"
   ]
  },
  {
   "cell_type": "code",
   "execution_count": 16,
   "metadata": {},
   "outputs": [
    {
     "data": {
      "text/plain": [
       "datetime.timedelta(days=-3209, seconds=48732, microseconds=715265)"
      ]
     },
     "execution_count": 16,
     "metadata": {},
     "output_type": "execute_result"
    }
   ],
   "source": [
    "delta"
   ]
  },
  {
   "cell_type": "code",
   "execution_count": 17,
   "metadata": {},
   "outputs": [
    {
     "data": {
      "text/plain": [
       "-3209"
      ]
     },
     "execution_count": 17,
     "metadata": {},
     "output_type": "execute_result"
    }
   ],
   "source": [
    "delta.days"
   ]
  },
  {
   "cell_type": "code",
   "execution_count": 30,
   "metadata": {},
   "outputs": [],
   "source": [
    "# this allows you to calculate days, or generate days rather\n",
    "from datetime import timedelta "
   ]
  },
  {
   "cell_type": "code",
   "execution_count": 28,
   "metadata": {},
   "outputs": [],
   "source": [
    "now = datetime(2020,8,19)"
   ]
  },
  {
   "cell_type": "code",
   "execution_count": 29,
   "metadata": {},
   "outputs": [
    {
     "data": {
      "text/plain": [
       "datetime.datetime(2020, 8, 29, 0, 0)"
      ]
     },
     "execution_count": 29,
     "metadata": {},
     "output_type": "execute_result"
    }
   ],
   "source": [
    "now + timedelta(10) #now you can add 10 days to 2020-08-19"
   ]
  },
  {
   "cell_type": "code",
   "execution_count": 33,
   "metadata": {},
   "outputs": [
    {
     "data": {
      "text/plain": [
       "'2020-08'"
      ]
     },
     "execution_count": 33,
     "metadata": {},
     "output_type": "execute_result"
    }
   ],
   "source": [
    "# can also convert datetimes to strings\n",
    "datetime.now().strftime('%Y-%m')"
   ]
  },
  {
   "cell_type": "code",
   "execution_count": 34,
   "metadata": {},
   "outputs": [],
   "source": [
    "today = '2020-08-19'"
   ]
  },
  {
   "cell_type": "code",
   "execution_count": 35,
   "metadata": {},
   "outputs": [
    {
     "data": {
      "text/plain": [
       "'2020-08-19'"
      ]
     },
     "execution_count": 35,
     "metadata": {},
     "output_type": "execute_result"
    }
   ],
   "source": [
    "today"
   ]
  },
  {
   "cell_type": "code",
   "execution_count": 42,
   "metadata": {},
   "outputs": [
    {
     "data": {
      "text/plain": [
       "datetime.datetime(2020, 8, 19, 10, 49, 4, 74916)"
      ]
     },
     "execution_count": 42,
     "metadata": {},
     "output_type": "execute_result"
    }
   ],
   "source": [
    "datetime.now()"
   ]
  },
  {
   "cell_type": "code",
   "execution_count": null,
   "metadata": {},
   "outputs": [],
   "source": [
    "[datetime.strptime(x, '%m/%d/%Y') for x in attack_dates]"
   ]
  },
  {
   "cell_type": "code",
   "execution_count": 43,
   "metadata": {},
   "outputs": [
    {
     "data": {
      "text/plain": [
       "datetime.datetime(2020, 8, 19, 0, 0)"
      ]
     },
     "execution_count": 43,
     "metadata": {},
     "output_type": "execute_result"
    }
   ],
   "source": [
    "datetime.strptime(today, '%Y-%m-%d')"
   ]
  },
  {
   "cell_type": "code",
   "execution_count": null,
   "metadata": {},
   "outputs": [],
   "source": [
    "pd.to_datetime(df['date'])"
   ]
  },
  {
   "cell_type": "code",
   "execution_count": 44,
   "metadata": {},
   "outputs": [],
   "source": [
    "import os as os\n",
    "import pandas as pd\n",
    "import numpy as np"
   ]
  },
  {
   "cell_type": "code",
   "execution_count": 47,
   "metadata": {},
   "outputs": [],
   "source": [
    "os.chdir('G:\\Rev Cycle Analytics\\HB\\HB Ad hoc\\Cash Collections')"
   ]
  },
  {
   "cell_type": "code",
   "execution_count": 49,
   "metadata": {},
   "outputs": [],
   "source": [
    "payors = pd.read_excel('Payor Analysis.xlsx','Payors')"
   ]
  },
  {
   "cell_type": "code",
   "execution_count": 50,
   "metadata": {},
   "outputs": [
    {
     "data": {
      "text/html": [
       "<div>\n",
       "<style scoped>\n",
       "    .dataframe tbody tr th:only-of-type {\n",
       "        vertical-align: middle;\n",
       "    }\n",
       "\n",
       "    .dataframe tbody tr th {\n",
       "        vertical-align: top;\n",
       "    }\n",
       "\n",
       "    .dataframe thead th {\n",
       "        text-align: right;\n",
       "    }\n",
       "</style>\n",
       "<table border=\"1\" class=\"dataframe\">\n",
       "  <thead>\n",
       "    <tr style=\"text-align: right;\">\n",
       "      <th></th>\n",
       "      <th>Month - Year</th>\n",
       "      <th>Account Base Class</th>\n",
       "      <th>Financial Class</th>\n",
       "      <th>Payor</th>\n",
       "      <th>Charge Amount</th>\n",
       "      <th>Payment Amount</th>\n",
       "    </tr>\n",
       "  </thead>\n",
       "  <tbody>\n",
       "    <tr>\n",
       "      <th>0</th>\n",
       "      <td>October 2018</td>\n",
       "      <td>Emergency</td>\n",
       "      <td>Blue Cross</td>\n",
       "      <td>BCBS [6001]</td>\n",
       "      <td>1164310.55</td>\n",
       "      <td>-221392.34</td>\n",
       "    </tr>\n",
       "    <tr>\n",
       "      <th>1</th>\n",
       "      <td>October 2018</td>\n",
       "      <td>Emergency</td>\n",
       "      <td>Blue Cross</td>\n",
       "      <td>BCBS OUT OF STATE [6002]</td>\n",
       "      <td>106676.85</td>\n",
       "      <td>-10107.57</td>\n",
       "    </tr>\n",
       "    <tr>\n",
       "      <th>2</th>\n",
       "      <td>October 2018</td>\n",
       "      <td>Emergency</td>\n",
       "      <td>CommChoice/QHP</td>\n",
       "      <td>ALLWAYS HEALTH PARTNERS PRIME [7003]</td>\n",
       "      <td>22074.11</td>\n",
       "      <td>-11652.59</td>\n",
       "    </tr>\n",
       "    <tr>\n",
       "      <th>3</th>\n",
       "      <td>October 2018</td>\n",
       "      <td>Emergency</td>\n",
       "      <td>CommChoice/QHP</td>\n",
       "      <td>BMC HEALTHNET [7001]</td>\n",
       "      <td>791892.82</td>\n",
       "      <td>-494429.16</td>\n",
       "    </tr>\n",
       "    <tr>\n",
       "      <th>4</th>\n",
       "      <td>October 2018</td>\n",
       "      <td>Emergency</td>\n",
       "      <td>CommChoice/QHP</td>\n",
       "      <td>TUFTS CONNCARE/QHP [8020]</td>\n",
       "      <td>162066.32</td>\n",
       "      <td>-1326.51</td>\n",
       "    </tr>\n",
       "  </tbody>\n",
       "</table>\n",
       "</div>"
      ],
      "text/plain": [
       "   Month - Year Account Base Class Financial Class  \\\n",
       "0  October 2018          Emergency      Blue Cross   \n",
       "1  October 2018          Emergency      Blue Cross   \n",
       "2  October 2018          Emergency  CommChoice/QHP   \n",
       "3  October 2018          Emergency  CommChoice/QHP   \n",
       "4  October 2018          Emergency  CommChoice/QHP   \n",
       "\n",
       "                                  Payor  Charge Amount  Payment Amount  \n",
       "0                           BCBS [6001]     1164310.55      -221392.34  \n",
       "1              BCBS OUT OF STATE [6002]      106676.85       -10107.57  \n",
       "2  ALLWAYS HEALTH PARTNERS PRIME [7003]       22074.11       -11652.59  \n",
       "3                  BMC HEALTHNET [7001]      791892.82      -494429.16  \n",
       "4             TUFTS CONNCARE/QHP [8020]      162066.32        -1326.51  "
      ]
     },
     "execution_count": 50,
     "metadata": {},
     "output_type": "execute_result"
    }
   ],
   "source": [
    "payors.head(5)"
   ]
  },
  {
   "cell_type": "code",
   "execution_count": 52,
   "metadata": {},
   "outputs": [],
   "source": [
    "payors = payors.rename(columns={'Month - Year':'Date','Account Base Class':'Base','Financial Class':'FC','Charge Amount':'Charges','Payment Amount':'Payments'})"
   ]
  },
  {
   "cell_type": "code",
   "execution_count": 53,
   "metadata": {},
   "outputs": [
    {
     "data": {
      "text/html": [
       "<div>\n",
       "<style scoped>\n",
       "    .dataframe tbody tr th:only-of-type {\n",
       "        vertical-align: middle;\n",
       "    }\n",
       "\n",
       "    .dataframe tbody tr th {\n",
       "        vertical-align: top;\n",
       "    }\n",
       "\n",
       "    .dataframe thead th {\n",
       "        text-align: right;\n",
       "    }\n",
       "</style>\n",
       "<table border=\"1\" class=\"dataframe\">\n",
       "  <thead>\n",
       "    <tr style=\"text-align: right;\">\n",
       "      <th></th>\n",
       "      <th>Date</th>\n",
       "      <th>Base</th>\n",
       "      <th>FC</th>\n",
       "      <th>Payor</th>\n",
       "      <th>Charges</th>\n",
       "      <th>Payments</th>\n",
       "    </tr>\n",
       "  </thead>\n",
       "  <tbody>\n",
       "    <tr>\n",
       "      <th>0</th>\n",
       "      <td>October 2018</td>\n",
       "      <td>Emergency</td>\n",
       "      <td>Blue Cross</td>\n",
       "      <td>BCBS [6001]</td>\n",
       "      <td>1164310.55</td>\n",
       "      <td>-221392.34</td>\n",
       "    </tr>\n",
       "    <tr>\n",
       "      <th>1</th>\n",
       "      <td>October 2018</td>\n",
       "      <td>Emergency</td>\n",
       "      <td>Blue Cross</td>\n",
       "      <td>BCBS OUT OF STATE [6002]</td>\n",
       "      <td>106676.85</td>\n",
       "      <td>-10107.57</td>\n",
       "    </tr>\n",
       "    <tr>\n",
       "      <th>2</th>\n",
       "      <td>October 2018</td>\n",
       "      <td>Emergency</td>\n",
       "      <td>CommChoice/QHP</td>\n",
       "      <td>ALLWAYS HEALTH PARTNERS PRIME [7003]</td>\n",
       "      <td>22074.11</td>\n",
       "      <td>-11652.59</td>\n",
       "    </tr>\n",
       "    <tr>\n",
       "      <th>3</th>\n",
       "      <td>October 2018</td>\n",
       "      <td>Emergency</td>\n",
       "      <td>CommChoice/QHP</td>\n",
       "      <td>BMC HEALTHNET [7001]</td>\n",
       "      <td>791892.82</td>\n",
       "      <td>-494429.16</td>\n",
       "    </tr>\n",
       "    <tr>\n",
       "      <th>4</th>\n",
       "      <td>October 2018</td>\n",
       "      <td>Emergency</td>\n",
       "      <td>CommChoice/QHP</td>\n",
       "      <td>TUFTS CONNCARE/QHP [8020]</td>\n",
       "      <td>162066.32</td>\n",
       "      <td>-1326.51</td>\n",
       "    </tr>\n",
       "  </tbody>\n",
       "</table>\n",
       "</div>"
      ],
      "text/plain": [
       "           Date       Base              FC  \\\n",
       "0  October 2018  Emergency      Blue Cross   \n",
       "1  October 2018  Emergency      Blue Cross   \n",
       "2  October 2018  Emergency  CommChoice/QHP   \n",
       "3  October 2018  Emergency  CommChoice/QHP   \n",
       "4  October 2018  Emergency  CommChoice/QHP   \n",
       "\n",
       "                                  Payor     Charges   Payments  \n",
       "0                           BCBS [6001]  1164310.55 -221392.34  \n",
       "1              BCBS OUT OF STATE [6002]   106676.85  -10107.57  \n",
       "2  ALLWAYS HEALTH PARTNERS PRIME [7003]    22074.11  -11652.59  \n",
       "3                  BMC HEALTHNET [7001]   791892.82 -494429.16  \n",
       "4             TUFTS CONNCARE/QHP [8020]   162066.32   -1326.51  "
      ]
     },
     "execution_count": 53,
     "metadata": {},
     "output_type": "execute_result"
    }
   ],
   "source": [
    "payors.head(5)"
   ]
  },
  {
   "cell_type": "code",
   "execution_count": 60,
   "metadata": {},
   "outputs": [
    {
     "data": {
      "text/plain": [
       "Date         object\n",
       "Base         object\n",
       "FC           object\n",
       "Payor        object\n",
       "Charges     float64\n",
       "Payments    float64\n",
       "dtype: object"
      ]
     },
     "execution_count": 60,
     "metadata": {},
     "output_type": "execute_result"
    }
   ],
   "source": [
    "payors.dtypes"
   ]
  },
  {
   "cell_type": "code",
   "execution_count": 64,
   "metadata": {},
   "outputs": [],
   "source": [
    "# some data clean up (dates, values)\n",
    "payors['Date'] = pd.to_datetime(payors['Date'])"
   ]
  },
  {
   "cell_type": "code",
   "execution_count": 65,
   "metadata": {},
   "outputs": [
    {
     "data": {
      "text/html": [
       "<div>\n",
       "<style scoped>\n",
       "    .dataframe tbody tr th:only-of-type {\n",
       "        vertical-align: middle;\n",
       "    }\n",
       "\n",
       "    .dataframe tbody tr th {\n",
       "        vertical-align: top;\n",
       "    }\n",
       "\n",
       "    .dataframe thead th {\n",
       "        text-align: right;\n",
       "    }\n",
       "</style>\n",
       "<table border=\"1\" class=\"dataframe\">\n",
       "  <thead>\n",
       "    <tr style=\"text-align: right;\">\n",
       "      <th></th>\n",
       "      <th>Date</th>\n",
       "      <th>Base</th>\n",
       "      <th>FC</th>\n",
       "      <th>Payor</th>\n",
       "      <th>Charges</th>\n",
       "      <th>Payments</th>\n",
       "    </tr>\n",
       "  </thead>\n",
       "  <tbody>\n",
       "    <tr>\n",
       "      <th>0</th>\n",
       "      <td>2018-10-01</td>\n",
       "      <td>Emergency</td>\n",
       "      <td>Blue Cross</td>\n",
       "      <td>BCBS [6001]</td>\n",
       "      <td>1164310.55</td>\n",
       "      <td>-221392.34</td>\n",
       "    </tr>\n",
       "    <tr>\n",
       "      <th>1</th>\n",
       "      <td>2018-10-01</td>\n",
       "      <td>Emergency</td>\n",
       "      <td>Blue Cross</td>\n",
       "      <td>BCBS OUT OF STATE [6002]</td>\n",
       "      <td>106676.85</td>\n",
       "      <td>-10107.57</td>\n",
       "    </tr>\n",
       "    <tr>\n",
       "      <th>2</th>\n",
       "      <td>2018-10-01</td>\n",
       "      <td>Emergency</td>\n",
       "      <td>CommChoice/QHP</td>\n",
       "      <td>ALLWAYS HEALTH PARTNERS PRIME [7003]</td>\n",
       "      <td>22074.11</td>\n",
       "      <td>-11652.59</td>\n",
       "    </tr>\n",
       "    <tr>\n",
       "      <th>3</th>\n",
       "      <td>2018-10-01</td>\n",
       "      <td>Emergency</td>\n",
       "      <td>CommChoice/QHP</td>\n",
       "      <td>BMC HEALTHNET [7001]</td>\n",
       "      <td>791892.82</td>\n",
       "      <td>-494429.16</td>\n",
       "    </tr>\n",
       "    <tr>\n",
       "      <th>4</th>\n",
       "      <td>2018-10-01</td>\n",
       "      <td>Emergency</td>\n",
       "      <td>CommChoice/QHP</td>\n",
       "      <td>TUFTS CONNCARE/QHP [8020]</td>\n",
       "      <td>162066.32</td>\n",
       "      <td>-1326.51</td>\n",
       "    </tr>\n",
       "  </tbody>\n",
       "</table>\n",
       "</div>"
      ],
      "text/plain": [
       "        Date       Base              FC                                 Payor  \\\n",
       "0 2018-10-01  Emergency      Blue Cross                           BCBS [6001]   \n",
       "1 2018-10-01  Emergency      Blue Cross              BCBS OUT OF STATE [6002]   \n",
       "2 2018-10-01  Emergency  CommChoice/QHP  ALLWAYS HEALTH PARTNERS PRIME [7003]   \n",
       "3 2018-10-01  Emergency  CommChoice/QHP                  BMC HEALTHNET [7001]   \n",
       "4 2018-10-01  Emergency  CommChoice/QHP             TUFTS CONNCARE/QHP [8020]   \n",
       "\n",
       "      Charges   Payments  \n",
       "0  1164310.55 -221392.34  \n",
       "1   106676.85  -10107.57  \n",
       "2    22074.11  -11652.59  \n",
       "3   791892.82 -494429.16  \n",
       "4   162066.32   -1326.51  "
      ]
     },
     "execution_count": 65,
     "metadata": {},
     "output_type": "execute_result"
    }
   ],
   "source": [
    "payors.head(5)"
   ]
  },
  {
   "cell_type": "code",
   "execution_count": 68,
   "metadata": {},
   "outputs": [],
   "source": [
    "pd.set_option('float_format', '{:.2f}'.format)"
   ]
  },
  {
   "cell_type": "code",
   "execution_count": 69,
   "metadata": {},
   "outputs": [
    {
     "data": {
      "text/html": [
       "<div>\n",
       "<style scoped>\n",
       "    .dataframe tbody tr th:only-of-type {\n",
       "        vertical-align: middle;\n",
       "    }\n",
       "\n",
       "    .dataframe tbody tr th {\n",
       "        vertical-align: top;\n",
       "    }\n",
       "\n",
       "    .dataframe thead th {\n",
       "        text-align: right;\n",
       "    }\n",
       "</style>\n",
       "<table border=\"1\" class=\"dataframe\">\n",
       "  <thead>\n",
       "    <tr style=\"text-align: right;\">\n",
       "      <th></th>\n",
       "      <th>Date</th>\n",
       "      <th>Base</th>\n",
       "      <th>FC</th>\n",
       "      <th>Payor</th>\n",
       "      <th>Charges</th>\n",
       "      <th>Payments</th>\n",
       "    </tr>\n",
       "  </thead>\n",
       "  <tbody>\n",
       "    <tr>\n",
       "      <th>0</th>\n",
       "      <td>2018-10-01</td>\n",
       "      <td>Emergency</td>\n",
       "      <td>Blue Cross</td>\n",
       "      <td>BCBS [6001]</td>\n",
       "      <td>1164310.55</td>\n",
       "      <td>-221392.34</td>\n",
       "    </tr>\n",
       "    <tr>\n",
       "      <th>1</th>\n",
       "      <td>2018-10-01</td>\n",
       "      <td>Emergency</td>\n",
       "      <td>Blue Cross</td>\n",
       "      <td>BCBS OUT OF STATE [6002]</td>\n",
       "      <td>106676.85</td>\n",
       "      <td>-10107.57</td>\n",
       "    </tr>\n",
       "    <tr>\n",
       "      <th>2</th>\n",
       "      <td>2018-10-01</td>\n",
       "      <td>Emergency</td>\n",
       "      <td>CommChoice/QHP</td>\n",
       "      <td>ALLWAYS HEALTH PARTNERS PRIME [7003]</td>\n",
       "      <td>22074.11</td>\n",
       "      <td>-11652.59</td>\n",
       "    </tr>\n",
       "    <tr>\n",
       "      <th>3</th>\n",
       "      <td>2018-10-01</td>\n",
       "      <td>Emergency</td>\n",
       "      <td>CommChoice/QHP</td>\n",
       "      <td>BMC HEALTHNET [7001]</td>\n",
       "      <td>791892.82</td>\n",
       "      <td>-494429.16</td>\n",
       "    </tr>\n",
       "    <tr>\n",
       "      <th>4</th>\n",
       "      <td>2018-10-01</td>\n",
       "      <td>Emergency</td>\n",
       "      <td>CommChoice/QHP</td>\n",
       "      <td>TUFTS CONNCARE/QHP [8020]</td>\n",
       "      <td>162066.32</td>\n",
       "      <td>-1326.51</td>\n",
       "    </tr>\n",
       "  </tbody>\n",
       "</table>\n",
       "</div>"
      ],
      "text/plain": [
       "        Date       Base              FC                                 Payor  \\\n",
       "0 2018-10-01  Emergency      Blue Cross                           BCBS [6001]   \n",
       "1 2018-10-01  Emergency      Blue Cross              BCBS OUT OF STATE [6002]   \n",
       "2 2018-10-01  Emergency  CommChoice/QHP  ALLWAYS HEALTH PARTNERS PRIME [7003]   \n",
       "3 2018-10-01  Emergency  CommChoice/QHP                  BMC HEALTHNET [7001]   \n",
       "4 2018-10-01  Emergency  CommChoice/QHP             TUFTS CONNCARE/QHP [8020]   \n",
       "\n",
       "     Charges   Payments  \n",
       "0 1164310.55 -221392.34  \n",
       "1  106676.85  -10107.57  \n",
       "2   22074.11  -11652.59  \n",
       "3  791892.82 -494429.16  \n",
       "4  162066.32   -1326.51  "
      ]
     },
     "execution_count": 69,
     "metadata": {},
     "output_type": "execute_result"
    }
   ],
   "source": [
    "payors.head(5)"
   ]
  },
  {
   "cell_type": "code",
   "execution_count": 73,
   "metadata": {},
   "outputs": [
    {
     "data": {
      "text/plain": [
       "datetime.datetime(2011, 9, 1, 0, 0)"
      ]
     },
     "execution_count": 73,
     "metadata": {},
     "output_type": "execute_result"
    }
   ],
   "source": [
    "# normally you can convert a string to a date time like this\n",
    "some_date = '2011-09-01'\n",
    "datetime.strptime(some_date, '%Y-%m-%d')"
   ]
  },
  {
   "cell_type": "code",
   "execution_count": 75,
   "metadata": {},
   "outputs": [
    {
     "data": {
      "text/plain": [
       "[datetime.datetime(2020, 8, 11, 0, 0),\n",
       " datetime.datetime(2020, 8, 9, 0, 0),\n",
       " datetime.datetime(2019, 2, 1, 0, 0)]"
      ]
     },
     "execution_count": 75,
     "metadata": {},
     "output_type": "execute_result"
    }
   ],
   "source": [
    "# for multiple string dates\n",
    "date_strings = ['2020-08-11','2020-08-09','2019-02-01']\n",
    "\n",
    "# then apply function to all parts\n",
    "[datetime.strptime(x,'%Y-%m-%d') for x in date_strings]"
   ]
  },
  {
   "cell_type": "code",
   "execution_count": 76,
   "metadata": {},
   "outputs": [],
   "source": [
    "# a good all-around parser in general is the dateutil package\n",
    "from dateutil.parser import parse"
   ]
  },
  {
   "cell_type": "code",
   "execution_count": 82,
   "metadata": {},
   "outputs": [],
   "source": [
    "crazy_date = 'Jan 1, 2013 at 10:45a'"
   ]
  },
  {
   "cell_type": "code",
   "execution_count": 83,
   "metadata": {},
   "outputs": [
    {
     "data": {
      "text/plain": [
       "datetime.datetime(2013, 1, 1, 10, 45)"
      ]
     },
     "execution_count": 83,
     "metadata": {},
     "output_type": "execute_result"
    }
   ],
   "source": [
    "parse(crazy_date)"
   ]
  },
  {
   "cell_type": "code",
   "execution_count": 87,
   "metadata": {},
   "outputs": [],
   "source": [
    "# if the day ever comes first in a string, just set to dayfirst=True\n",
    "crazy_date = '23 February 2020 at 11:06a'\n",
    "crazy_date_2 = '23/6/2019'"
   ]
  },
  {
   "cell_type": "code",
   "execution_count": 90,
   "metadata": {},
   "outputs": [
    {
     "data": {
      "text/plain": [
       "datetime.datetime(2019, 6, 23, 0, 0)"
      ]
     },
     "execution_count": 90,
     "metadata": {},
     "output_type": "execute_result"
    }
   ],
   "source": [
    "parse(crazy_date)\n",
    "parse(crazy_date_2)"
   ]
  },
  {
   "cell_type": "code",
   "execution_count": 92,
   "metadata": {},
   "outputs": [],
   "source": [
    "long_date = pd.Series(np.random.randn(1000),index=pd.date_range('1/1/2000', periods=1000))"
   ]
  },
  {
   "cell_type": "code",
   "execution_count": 93,
   "metadata": {},
   "outputs": [
    {
     "data": {
      "text/plain": [
       "2000-01-01    1.42\n",
       "2000-01-02   -0.21\n",
       "2000-01-03    0.35\n",
       "2000-01-04   -1.70\n",
       "2000-01-05   -0.75\n",
       "2000-01-06    0.30\n",
       "2000-01-07   -1.46\n",
       "2000-01-08    1.72\n",
       "2000-01-09   -1.34\n",
       "2000-01-10   -0.02\n",
       "Freq: D, dtype: float64"
      ]
     },
     "execution_count": 93,
     "metadata": {},
     "output_type": "execute_result"
    }
   ],
   "source": [
    "long_date.head(10)"
   ]
  },
  {
   "cell_type": "code",
   "execution_count": 94,
   "metadata": {},
   "outputs": [
    {
     "data": {
      "text/plain": [
       "2001-01-01    0.72\n",
       "2001-01-02    0.32\n",
       "2001-01-03   -0.48\n",
       "2001-01-04    1.00\n",
       "2001-01-05   -0.18\n",
       "2001-01-06   -0.53\n",
       "2001-01-07    1.52\n",
       "2001-01-08    1.16\n",
       "2001-01-09   -0.06\n",
       "2001-01-10   -0.53\n",
       "Freq: D, dtype: float64"
      ]
     },
     "execution_count": 94,
     "metadata": {},
     "output_type": "execute_result"
    }
   ],
   "source": [
    "long_date['2001'].head(10)"
   ]
  },
  {
   "cell_type": "code",
   "execution_count": 95,
   "metadata": {},
   "outputs": [
    {
     "data": {
      "text/plain": [
       "2000-01-03    0.35\n",
       "2000-01-04   -1.70\n",
       "2000-01-05   -0.75\n",
       "2000-01-06    0.30\n",
       "2000-01-07   -1.46\n",
       "Freq: D, dtype: float64"
      ]
     },
     "execution_count": 95,
     "metadata": {},
     "output_type": "execute_result"
    }
   ],
   "source": [
    "long_date['2000-01-03':'2000-01-07']"
   ]
  },
  {
   "cell_type": "code",
   "execution_count": 96,
   "metadata": {},
   "outputs": [
    {
     "data": {
      "text/plain": [
       "DatetimeIndex(['2020-01-01', '2020-01-02', '2020-01-03', '2020-01-04',\n",
       "               '2020-01-05', '2020-01-06', '2020-01-07', '2020-01-08',\n",
       "               '2020-01-09', '2020-01-10', '2020-01-11', '2020-01-12',\n",
       "               '2020-01-13', '2020-01-14', '2020-01-15', '2020-01-16',\n",
       "               '2020-01-17', '2020-01-18', '2020-01-19', '2020-01-20',\n",
       "               '2020-01-21', '2020-01-22', '2020-01-23', '2020-01-24',\n",
       "               '2020-01-25', '2020-01-26', '2020-01-27', '2020-01-28',\n",
       "               '2020-01-29', '2020-01-30', '2020-01-31', '2020-02-01',\n",
       "               '2020-02-02', '2020-02-03'],\n",
       "              dtype='datetime64[ns]', freq='D')"
      ]
     },
     "execution_count": 96,
     "metadata": {},
     "output_type": "execute_result"
    }
   ],
   "source": [
    "# to generate a time series\n",
    "pd.date_range('01/01/2020','02/03/2020')"
   ]
  },
  {
   "cell_type": "code",
   "execution_count": 97,
   "metadata": {},
   "outputs": [
    {
     "data": {
      "text/plain": [
       "DatetimeIndex(['2020-01-01', '2020-01-02', '2020-01-03', '2020-01-04',\n",
       "               '2020-01-05', '2020-01-06', '2020-01-07', '2020-01-08',\n",
       "               '2020-01-09', '2020-01-10', '2020-01-11', '2020-01-12'],\n",
       "              dtype='datetime64[ns]', freq='D')"
      ]
     },
     "execution_count": 97,
     "metadata": {},
     "output_type": "execute_result"
    }
   ],
   "source": [
    "# can also do\n",
    "pd.date_range('01/01/2020', periods=12)"
   ]
  },
  {
   "cell_type": "code",
   "execution_count": 104,
   "metadata": {},
   "outputs": [
    {
     "data": {
      "text/plain": [
       "DatetimeIndex(['2020-01-01', '2020-01-02', '2020-01-03', '2020-01-06',\n",
       "               '2020-01-07', '2020-01-08', '2020-01-09', '2020-01-10',\n",
       "               '2020-01-13', '2020-01-14', '2020-01-15', '2020-01-16',\n",
       "               '2020-01-17', '2020-01-20', '2020-01-21', '2020-01-22',\n",
       "               '2020-01-23'],\n",
       "              dtype='datetime64[ns]', freq='B')"
      ]
     },
     "execution_count": 104,
     "metadata": {},
     "output_type": "execute_result"
    }
   ],
   "source": [
    "# can do only business days\n",
    "pd.date_range('01/01/2020','01/23/2020',freq='B')"
   ]
  },
  {
   "cell_type": "code",
   "execution_count": 107,
   "metadata": {},
   "outputs": [
    {
     "data": {
      "text/plain": [
       "DatetimeIndex(['2020-01-01 00:00:00', '2020-01-01 04:00:00',\n",
       "               '2020-01-01 08:00:00', '2020-01-01 12:00:00',\n",
       "               '2020-01-01 16:00:00', '2020-01-01 20:00:00',\n",
       "               '2020-01-02 00:00:00', '2020-01-02 04:00:00',\n",
       "               '2020-01-02 08:00:00', '2020-01-02 12:00:00',\n",
       "               '2020-01-02 16:00:00', '2020-01-02 20:00:00',\n",
       "               '2020-01-03 00:00:00', '2020-01-03 04:00:00',\n",
       "               '2020-01-03 08:00:00', '2020-01-03 12:00:00',\n",
       "               '2020-01-03 16:00:00', '2020-01-03 20:00:00',\n",
       "               '2020-01-04 00:00:00', '2020-01-04 04:00:00',\n",
       "               '2020-01-04 08:00:00', '2020-01-04 12:00:00',\n",
       "               '2020-01-04 16:00:00', '2020-01-04 20:00:00',\n",
       "               '2020-01-05 00:00:00'],\n",
       "              dtype='datetime64[ns]', freq='4H')"
      ]
     },
     "execution_count": 107,
     "metadata": {},
     "output_type": "execute_result"
    }
   ],
   "source": [
    "# can also add hour multiples into the picture\n",
    "pd.date_range('2020-01-01','2020-01-05',freq='4h')"
   ]
  },
  {
   "cell_type": "code",
   "execution_count": 108,
   "metadata": {},
   "outputs": [
    {
     "data": {
      "text/plain": [
       "DatetimeIndex(['2020-01-01 00:00:00', '2020-01-01 04:30:00',\n",
       "               '2020-01-01 09:00:00', '2020-01-01 13:30:00',\n",
       "               '2020-01-01 18:00:00', '2020-01-01 22:30:00',\n",
       "               '2020-01-02 03:00:00', '2020-01-02 07:30:00',\n",
       "               '2020-01-02 12:00:00', '2020-01-02 16:30:00',\n",
       "               '2020-01-02 21:00:00', '2020-01-03 01:30:00',\n",
       "               '2020-01-03 06:00:00', '2020-01-03 10:30:00',\n",
       "               '2020-01-03 15:00:00', '2020-01-03 19:30:00',\n",
       "               '2020-01-04 00:00:00', '2020-01-04 04:30:00',\n",
       "               '2020-01-04 09:00:00', '2020-01-04 13:30:00',\n",
       "               '2020-01-04 18:00:00', '2020-01-04 22:30:00'],\n",
       "              dtype='datetime64[ns]', freq='270T')"
      ]
     },
     "execution_count": 108,
     "metadata": {},
     "output_type": "execute_result"
    }
   ],
   "source": [
    "# or add hours and minutes\n",
    "pd.date_range('2020-01-01','2020-01-05',freq='4h30min')"
   ]
  },
  {
   "cell_type": "code",
   "execution_count": 114,
   "metadata": {},
   "outputs": [],
   "source": [
    "# in sql, getting the 3rd friday of each month is pretty involved\n",
    "# in pandas, you can just call the freq = 'WOM-3FRI' (aka 3rd Friday of the month)\n",
    "rng = pd.date_range('2020-01-01','2020-01-31',freq='WOM-3FRI')"
   ]
  },
  {
   "cell_type": "code",
   "execution_count": 115,
   "metadata": {},
   "outputs": [
    {
     "data": {
      "text/plain": [
       "[Timestamp('2020-01-17 00:00:00', freq='WOM-3FRI')]"
      ]
     },
     "execution_count": 115,
     "metadata": {},
     "output_type": "execute_result"
    }
   ],
   "source": [
    "list(rng)"
   ]
  },
  {
   "cell_type": "code",
   "execution_count": 117,
   "metadata": {},
   "outputs": [
    {
     "data": {
      "text/plain": [
       "2020-01-01    1.21\n",
       "2020-01-02   -1.06\n",
       "2020-01-03   -0.89\n",
       "2020-01-04    0.76\n",
       "dtype: float64"
      ]
     },
     "execution_count": 117,
     "metadata": {},
     "output_type": "execute_result"
    }
   ],
   "source": [
    "# two ways to create random numbers for dates: method 1\n",
    "pd.Series(np.random.randn(4),index=['2020-01-01','2020-01-02','2020-01-03','2020-01-04'])"
   ]
  },
  {
   "cell_type": "code",
   "execution_count": 127,
   "metadata": {},
   "outputs": [
    {
     "data": {
      "text/plain": [
       "2020-01-01   -0.83\n",
       "2020-01-02    0.75\n",
       "2020-01-03    1.04\n",
       "2020-01-04   -0.63\n",
       "Freq: D, dtype: float64"
      ]
     },
     "execution_count": 127,
     "metadata": {},
     "output_type": "execute_result"
    }
   ],
   "source": [
    "#method 2\n",
    "pd.Series(np.random.randn(4),index=pd.date_range('2020-01-01',periods=4))"
   ]
  },
  {
   "cell_type": "code",
   "execution_count": 128,
   "metadata": {},
   "outputs": [],
   "source": [
    "ts = pd.Series(np.random.randn(4),index=pd.date_range('2020-01-01',periods=4))"
   ]
  },
  {
   "cell_type": "code",
   "execution_count": 132,
   "metadata": {},
   "outputs": [
    {
     "data": {
      "text/plain": [
       "2020-01-01     nan\n",
       "2020-01-02     nan\n",
       "2020-01-03   -0.05\n",
       "2020-01-04    0.08\n",
       "Freq: D, dtype: float64"
      ]
     },
     "execution_count": 132,
     "metadata": {},
     "output_type": "execute_result"
    }
   ],
   "source": [
    "# then you can also shift the data a few days\n",
    "ts.shift(2)"
   ]
  },
  {
   "cell_type": "code",
   "execution_count": 135,
   "metadata": {},
   "outputs": [
    {
     "data": {
      "text/plain": [
       "2020-01-03   -0.05\n",
       "2020-01-04    0.08\n",
       "2020-01-05    0.43\n",
       "2020-01-06   -0.83\n",
       "Freq: D, dtype: float64"
      ]
     },
     "execution_count": 135,
     "metadata": {},
     "output_type": "execute_result"
    }
   ],
   "source": [
    "ts.shift(2,freq='d') #to see the rest of the data"
   ]
  },
  {
   "cell_type": "code",
   "execution_count": 141,
   "metadata": {},
   "outputs": [],
   "source": [
    "# you can rollforward certain days and to month-ends\n",
    "now = datetime.now()  # today's date"
   ]
  },
  {
   "cell_type": "code",
   "execution_count": 144,
   "metadata": {},
   "outputs": [],
   "source": [
    "from pandas.tseries.offsets import Day, MonthEnd"
   ]
  },
  {
   "cell_type": "code",
   "execution_count": 145,
   "metadata": {},
   "outputs": [
    {
     "data": {
      "text/plain": [
       "Timestamp('2020-08-22 15:49:36.276799')"
      ]
     },
     "execution_count": 145,
     "metadata": {},
     "output_type": "execute_result"
    }
   ],
   "source": [
    "now + 3 * Day() # add three days to today's date"
   ]
  },
  {
   "cell_type": "code",
   "execution_count": 146,
   "metadata": {},
   "outputs": [
    {
     "data": {
      "text/plain": [
       "Timestamp('2020-08-31 15:49:36.276799')"
      ]
     },
     "execution_count": 146,
     "metadata": {},
     "output_type": "execute_result"
    }
   ],
   "source": [
    "# what's the last day of this month\n",
    "now + MonthEnd()"
   ]
  },
  {
   "cell_type": "code",
   "execution_count": 147,
   "metadata": {},
   "outputs": [
    {
     "data": {
      "text/plain": [
       "Timestamp('2020-07-31 15:49:36.276799')"
      ]
     },
     "execution_count": 147,
     "metadata": {},
     "output_type": "execute_result"
    }
   ],
   "source": [
    "# end of last month\n",
    "now - MonthEnd()"
   ]
  },
  {
   "cell_type": "code",
   "execution_count": 148,
   "metadata": {},
   "outputs": [
    {
     "data": {
      "text/plain": [
       "Timestamp('2020-09-30 15:49:36.276799')"
      ]
     },
     "execution_count": 148,
     "metadata": {},
     "output_type": "execute_result"
    }
   ],
   "source": [
    "# two months from now\n",
    "now + MonthEnd(2)"
   ]
  },
  {
   "cell_type": "code",
   "execution_count": 149,
   "metadata": {},
   "outputs": [
    {
     "data": {
      "text/plain": [
       "Timestamp('2020-08-31 15:49:36.276799')"
      ]
     },
     "execution_count": 149,
     "metadata": {},
     "output_type": "execute_result"
    }
   ],
   "source": [
    "# end of this month: method 2\n",
    "MonthEnd().rollforward(now)"
   ]
  },
  {
   "cell_type": "code",
   "execution_count": 150,
   "metadata": {},
   "outputs": [
    {
     "data": {
      "text/plain": [
       "Timestamp('2020-07-31 15:49:36.276799')"
      ]
     },
     "execution_count": 150,
     "metadata": {},
     "output_type": "execute_result"
    }
   ],
   "source": [
    "# end of last month: method 2\n",
    "MonthEnd().rollback(now)"
   ]
  },
  {
   "cell_type": "code",
   "execution_count": 165,
   "metadata": {},
   "outputs": [],
   "source": [
    "# QUARTERLY PERIOD FREQUENCIES\n",
    "\n",
    "p = pd.Period('2020Q1',freq='Q-SEP')"
   ]
  },
  {
   "cell_type": "code",
   "execution_count": 166,
   "metadata": {},
   "outputs": [
    {
     "data": {
      "text/plain": [
       "Period('2019-10-01', 'D')"
      ]
     },
     "execution_count": 166,
     "metadata": {},
     "output_type": "execute_result"
    }
   ],
   "source": [
    "p.asfreq('D','start')"
   ]
  },
  {
   "cell_type": "code",
   "execution_count": null,
   "metadata": {},
   "outputs": [],
   "source": []
  }
 ],
 "metadata": {
  "kernelspec": {
   "display_name": "Python 3",
   "language": "python",
   "name": "python3"
  },
  "language_info": {
   "codemirror_mode": {
    "name": "ipython",
    "version": 3
   },
   "file_extension": ".py",
   "mimetype": "text/x-python",
   "name": "python",
   "nbconvert_exporter": "python",
   "pygments_lexer": "ipython3",
   "version": "3.7.4"
  }
 },
 "nbformat": 4,
 "nbformat_minor": 2
}
