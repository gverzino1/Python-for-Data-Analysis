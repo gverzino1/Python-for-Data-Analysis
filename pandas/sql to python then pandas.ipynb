{
 "cells": [
  {
   "cell_type": "code",
   "execution_count": 1,
   "metadata": {},
   "outputs": [],
   "source": [
    "import pandas as pd\n",
    "import pyodbc as pyodbc"
   ]
  },
  {
   "cell_type": "code",
   "execution_count": 3,
   "metadata": {},
   "outputs": [],
   "source": [
    "conn = pyodbc.connect('Driver={SQL Server};''Server=emerge-rdbms;''Database=Clarity;''Trusted_Connection=yes')"
   ]
  },
  {
   "cell_type": "code",
   "execution_count": 4,
   "metadata": {},
   "outputs": [],
   "source": [
    "sql = conn.cursor()"
   ]
  },
  {
   "cell_type": "code",
   "execution_count": 7,
   "metadata": {},
   "outputs": [
    {
     "data": {
      "text/plain": [
       "<pyodbc.Cursor at 0x8270730>"
      ]
     },
     "execution_count": 7,
     "metadata": {},
     "output_type": "execute_result"
    }
   ],
   "source": [
    "sql.execute('select top 25 hsp_account_id,convert(varchar,adm_date_time,101), hsp_account_name from hsp_account where hsp_account_id is not null and adm_date_time is not null')"
   ]
  },
  {
   "cell_type": "code",
   "execution_count": 8,
   "metadata": {},
   "outputs": [],
   "source": [
    "accounts = pd.DataFrame.from_records(sql.fetchall(),columns=[desc[0] for desc in sql.description])"
   ]
  },
  {
   "cell_type": "code",
   "execution_count": 11,
   "metadata": {},
   "outputs": [],
   "source": [
    "accounts.columns = ['hars','admit_date','pat_name']"
   ]
  },
  {
   "cell_type": "code",
   "execution_count": 12,
   "metadata": {},
   "outputs": [
    {
     "data": {
      "text/html": [
       "<div>\n",
       "<style scoped>\n",
       "    .dataframe tbody tr th:only-of-type {\n",
       "        vertical-align: middle;\n",
       "    }\n",
       "\n",
       "    .dataframe tbody tr th {\n",
       "        vertical-align: top;\n",
       "    }\n",
       "\n",
       "    .dataframe thead th {\n",
       "        text-align: right;\n",
       "    }\n",
       "</style>\n",
       "<table border=\"1\" class=\"dataframe\">\n",
       "  <thead>\n",
       "    <tr style=\"text-align: right;\">\n",
       "      <th></th>\n",
       "      <th>hars</th>\n",
       "      <th>admit_date</th>\n",
       "      <th>pat_name</th>\n",
       "    </tr>\n",
       "  </thead>\n",
       "  <tbody>\n",
       "    <tr>\n",
       "      <th>0</th>\n",
       "      <td>31739</td>\n",
       "      <td>01/18/2018</td>\n",
       "      <td>LOMBARDI,MARYBETH</td>\n",
       "    </tr>\n",
       "    <tr>\n",
       "      <th>1</th>\n",
       "      <td>31740</td>\n",
       "      <td>01/18/2018</td>\n",
       "      <td>CHAN,MICHAEL</td>\n",
       "    </tr>\n",
       "    <tr>\n",
       "      <th>2</th>\n",
       "      <td>31741</td>\n",
       "      <td>01/19/2018</td>\n",
       "      <td>FINN,EVELYN</td>\n",
       "    </tr>\n",
       "    <tr>\n",
       "      <th>3</th>\n",
       "      <td>31743</td>\n",
       "      <td>01/17/2018</td>\n",
       "      <td>SANCHEZ,VERONICA</td>\n",
       "    </tr>\n",
       "    <tr>\n",
       "      <th>4</th>\n",
       "      <td>31795</td>\n",
       "      <td>01/23/2018</td>\n",
       "      <td>ROMERO,MAYRA A</td>\n",
       "    </tr>\n",
       "    <tr>\n",
       "      <th>5</th>\n",
       "      <td>32166</td>\n",
       "      <td>02/06/2018</td>\n",
       "      <td>BENSON,GARY</td>\n",
       "    </tr>\n",
       "    <tr>\n",
       "      <th>6</th>\n",
       "      <td>32458</td>\n",
       "      <td>02/23/2018</td>\n",
       "      <td>ZAVALA LAZO,GENESIS J</td>\n",
       "    </tr>\n",
       "    <tr>\n",
       "      <th>7</th>\n",
       "      <td>32459</td>\n",
       "      <td>02/14/2018</td>\n",
       "      <td>CASTILLOROJAS,DAVID LUIZ</td>\n",
       "    </tr>\n",
       "    <tr>\n",
       "      <th>8</th>\n",
       "      <td>32603</td>\n",
       "      <td>02/20/2018</td>\n",
       "      <td>SHRESTHA,RAM</td>\n",
       "    </tr>\n",
       "    <tr>\n",
       "      <th>9</th>\n",
       "      <td>32673</td>\n",
       "      <td>02/27/2018</td>\n",
       "      <td>WEBER,DAVID</td>\n",
       "    </tr>\n",
       "    <tr>\n",
       "      <th>10</th>\n",
       "      <td>32754</td>\n",
       "      <td>03/05/2018</td>\n",
       "      <td>ABELARD,LAURADJINE</td>\n",
       "    </tr>\n",
       "    <tr>\n",
       "      <th>11</th>\n",
       "      <td>33088</td>\n",
       "      <td>03/23/2018</td>\n",
       "      <td>WOLFE,SARAH C</td>\n",
       "    </tr>\n",
       "    <tr>\n",
       "      <th>12</th>\n",
       "      <td>33157</td>\n",
       "      <td>03/27/2018</td>\n",
       "      <td>SEPULVEDAGUERRERO,ANEUDY R</td>\n",
       "    </tr>\n",
       "    <tr>\n",
       "      <th>13</th>\n",
       "      <td>33204</td>\n",
       "      <td>03/23/2018</td>\n",
       "      <td>SLYMAN,LEVITICUS J</td>\n",
       "    </tr>\n",
       "    <tr>\n",
       "      <th>14</th>\n",
       "      <td>33229</td>\n",
       "      <td>03/28/2018</td>\n",
       "      <td>NORTON,LYNNE M</td>\n",
       "    </tr>\n",
       "    <tr>\n",
       "      <th>15</th>\n",
       "      <td>33861</td>\n",
       "      <td>03/29/2018</td>\n",
       "      <td>GUEVARATAYLOR,JONATHAN</td>\n",
       "    </tr>\n",
       "    <tr>\n",
       "      <th>16</th>\n",
       "      <td>867663</td>\n",
       "      <td>04/03/2018</td>\n",
       "      <td>ESKAROUS,MAKARIOUS</td>\n",
       "    </tr>\n",
       "    <tr>\n",
       "      <th>17</th>\n",
       "      <td>886870</td>\n",
       "      <td>04/04/2018</td>\n",
       "      <td>POOLE,LEON A</td>\n",
       "    </tr>\n",
       "    <tr>\n",
       "      <th>18</th>\n",
       "      <td>888582</td>\n",
       "      <td>04/04/2018</td>\n",
       "      <td>ATWELL,EBONY</td>\n",
       "    </tr>\n",
       "    <tr>\n",
       "      <th>19</th>\n",
       "      <td>923255</td>\n",
       "      <td>04/04/2018</td>\n",
       "      <td>PROCTORTIRADO,SOPHIA</td>\n",
       "    </tr>\n",
       "    <tr>\n",
       "      <th>20</th>\n",
       "      <td>929795</td>\n",
       "      <td>04/03/2018</td>\n",
       "      <td>CHESTER,KARL</td>\n",
       "    </tr>\n",
       "    <tr>\n",
       "      <th>21</th>\n",
       "      <td>935342</td>\n",
       "      <td>04/04/2018</td>\n",
       "      <td>THOMAS,LEIYA L</td>\n",
       "    </tr>\n",
       "    <tr>\n",
       "      <th>22</th>\n",
       "      <td>938157</td>\n",
       "      <td>03/30/2018</td>\n",
       "      <td>BRIERCHECK,EDWARD L</td>\n",
       "    </tr>\n",
       "    <tr>\n",
       "      <th>23</th>\n",
       "      <td>943865</td>\n",
       "      <td>04/04/2018</td>\n",
       "      <td>CHESTER,KARL</td>\n",
       "    </tr>\n",
       "    <tr>\n",
       "      <th>24</th>\n",
       "      <td>951452</td>\n",
       "      <td>04/05/2018</td>\n",
       "      <td>GREENLAW,CELIA</td>\n",
       "    </tr>\n",
       "  </tbody>\n",
       "</table>\n",
       "</div>"
      ],
      "text/plain": [
       "      hars  admit_date                    pat_name\n",
       "0    31739  01/18/2018           LOMBARDI,MARYBETH\n",
       "1    31740  01/18/2018                CHAN,MICHAEL\n",
       "2    31741  01/19/2018                 FINN,EVELYN\n",
       "3    31743  01/17/2018            SANCHEZ,VERONICA\n",
       "4    31795  01/23/2018              ROMERO,MAYRA A\n",
       "5    32166  02/06/2018                 BENSON,GARY\n",
       "6    32458  02/23/2018       ZAVALA LAZO,GENESIS J\n",
       "7    32459  02/14/2018    CASTILLOROJAS,DAVID LUIZ\n",
       "8    32603  02/20/2018                SHRESTHA,RAM\n",
       "9    32673  02/27/2018                 WEBER,DAVID\n",
       "10   32754  03/05/2018          ABELARD,LAURADJINE\n",
       "11   33088  03/23/2018               WOLFE,SARAH C\n",
       "12   33157  03/27/2018  SEPULVEDAGUERRERO,ANEUDY R\n",
       "13   33204  03/23/2018          SLYMAN,LEVITICUS J\n",
       "14   33229  03/28/2018              NORTON,LYNNE M\n",
       "15   33861  03/29/2018      GUEVARATAYLOR,JONATHAN\n",
       "16  867663  04/03/2018          ESKAROUS,MAKARIOUS\n",
       "17  886870  04/04/2018                POOLE,LEON A\n",
       "18  888582  04/04/2018                ATWELL,EBONY\n",
       "19  923255  04/04/2018        PROCTORTIRADO,SOPHIA\n",
       "20  929795  04/03/2018                CHESTER,KARL\n",
       "21  935342  04/04/2018              THOMAS,LEIYA L\n",
       "22  938157  03/30/2018         BRIERCHECK,EDWARD L\n",
       "23  943865  04/04/2018                CHESTER,KARL\n",
       "24  951452  04/05/2018              GREENLAW,CELIA"
      ]
     },
     "execution_count": 12,
     "metadata": {},
     "output_type": "execute_result"
    }
   ],
   "source": [
    "accounts"
   ]
  },
  {
   "cell_type": "code",
   "execution_count": 26,
   "metadata": {},
   "outputs": [],
   "source": [
    "naccounts = accounts[accounts['pat_name'].str.contains('ER')]"
   ]
  },
  {
   "cell_type": "code",
   "execution_count": 30,
   "metadata": {},
   "outputs": [
    {
     "data": {
      "text/plain": [
       "dtype('O')"
      ]
     },
     "execution_count": 30,
     "metadata": {},
     "output_type": "execute_result"
    }
   ],
   "source": [
    "naccounts['admit_date'].dtypes"
   ]
  },
  {
   "cell_type": "code",
   "execution_count": 31,
   "metadata": {},
   "outputs": [
    {
     "name": "stderr",
     "output_type": "stream",
     "text": [
      "C:\\ProgramData\\Anaconda3\\lib\\site-packages\\ipykernel_launcher.py:1: SettingWithCopyWarning: \n",
      "A value is trying to be set on a copy of a slice from a DataFrame.\n",
      "Try using .loc[row_indexer,col_indexer] = value instead\n",
      "\n",
      "See the caveats in the documentation: https://pandas.pydata.org/pandas-docs/stable/user_guide/indexing.html#returning-a-view-versus-a-copy\n",
      "  \"\"\"Entry point for launching an IPython kernel.\n"
     ]
    }
   ],
   "source": [
    "naccounts['admit_date'] = pd.to_datetime(naccounts['admit_date'])"
   ]
  },
  {
   "cell_type": "code",
   "execution_count": 35,
   "metadata": {},
   "outputs": [
    {
     "data": {
      "text/html": [
       "<div>\n",
       "<style scoped>\n",
       "    .dataframe tbody tr th:only-of-type {\n",
       "        vertical-align: middle;\n",
       "    }\n",
       "\n",
       "    .dataframe tbody tr th {\n",
       "        vertical-align: top;\n",
       "    }\n",
       "\n",
       "    .dataframe thead th {\n",
       "        text-align: right;\n",
       "    }\n",
       "</style>\n",
       "<table border=\"1\" class=\"dataframe\">\n",
       "  <thead>\n",
       "    <tr style=\"text-align: right;\">\n",
       "      <th></th>\n",
       "      <th>hars</th>\n",
       "      <th>admit_date</th>\n",
       "      <th>pat_name</th>\n",
       "    </tr>\n",
       "  </thead>\n",
       "  <tbody>\n",
       "    <tr>\n",
       "      <th>3</th>\n",
       "      <td>31743</td>\n",
       "      <td>2018-01-17</td>\n",
       "      <td>SANCHEZ,VERONICA</td>\n",
       "    </tr>\n",
       "    <tr>\n",
       "      <th>4</th>\n",
       "      <td>31795</td>\n",
       "      <td>2018-01-23</td>\n",
       "      <td>ROMERO,MAYRA A</td>\n",
       "    </tr>\n",
       "    <tr>\n",
       "      <th>9</th>\n",
       "      <td>32673</td>\n",
       "      <td>2018-02-27</td>\n",
       "      <td>WEBER,DAVID</td>\n",
       "    </tr>\n",
       "    <tr>\n",
       "      <th>12</th>\n",
       "      <td>33157</td>\n",
       "      <td>2018-03-27</td>\n",
       "      <td>SEPULVEDAGUERRERO,ANEUDY R</td>\n",
       "    </tr>\n",
       "    <tr>\n",
       "      <th>20</th>\n",
       "      <td>929795</td>\n",
       "      <td>2018-04-03</td>\n",
       "      <td>CHESTER,KARL</td>\n",
       "    </tr>\n",
       "    <tr>\n",
       "      <th>22</th>\n",
       "      <td>938157</td>\n",
       "      <td>2018-03-30</td>\n",
       "      <td>BRIERCHECK,EDWARD L</td>\n",
       "    </tr>\n",
       "    <tr>\n",
       "      <th>23</th>\n",
       "      <td>943865</td>\n",
       "      <td>2018-04-04</td>\n",
       "      <td>CHESTER,KARL</td>\n",
       "    </tr>\n",
       "  </tbody>\n",
       "</table>\n",
       "</div>"
      ],
      "text/plain": [
       "      hars admit_date                    pat_name\n",
       "3    31743 2018-01-17            SANCHEZ,VERONICA\n",
       "4    31795 2018-01-23              ROMERO,MAYRA A\n",
       "9    32673 2018-02-27                 WEBER,DAVID\n",
       "12   33157 2018-03-27  SEPULVEDAGUERRERO,ANEUDY R\n",
       "20  929795 2018-04-03                CHESTER,KARL\n",
       "22  938157 2018-03-30         BRIERCHECK,EDWARD L\n",
       "23  943865 2018-04-04                CHESTER,KARL"
      ]
     },
     "execution_count": 35,
     "metadata": {},
     "output_type": "execute_result"
    }
   ],
   "source": [
    "naccounts"
   ]
  },
  {
   "cell_type": "code",
   "execution_count": 38,
   "metadata": {},
   "outputs": [
    {
     "data": {
      "text/html": [
       "<div>\n",
       "<style scoped>\n",
       "    .dataframe tbody tr th:only-of-type {\n",
       "        vertical-align: middle;\n",
       "    }\n",
       "\n",
       "    .dataframe tbody tr th {\n",
       "        vertical-align: top;\n",
       "    }\n",
       "\n",
       "    .dataframe thead th {\n",
       "        text-align: right;\n",
       "    }\n",
       "</style>\n",
       "<table border=\"1\" class=\"dataframe\">\n",
       "  <thead>\n",
       "    <tr style=\"text-align: right;\">\n",
       "      <th></th>\n",
       "      <th>hars</th>\n",
       "      <th>admit_date</th>\n",
       "      <th>pat_name</th>\n",
       "    </tr>\n",
       "  </thead>\n",
       "  <tbody>\n",
       "    <tr>\n",
       "      <th>12</th>\n",
       "      <td>33157</td>\n",
       "      <td>2018-03-27</td>\n",
       "      <td>SEPULVEDAGUERRERO,ANEUDY R</td>\n",
       "    </tr>\n",
       "    <tr>\n",
       "      <th>20</th>\n",
       "      <td>929795</td>\n",
       "      <td>2018-04-03</td>\n",
       "      <td>CHESTER,KARL</td>\n",
       "    </tr>\n",
       "    <tr>\n",
       "      <th>22</th>\n",
       "      <td>938157</td>\n",
       "      <td>2018-03-30</td>\n",
       "      <td>BRIERCHECK,EDWARD L</td>\n",
       "    </tr>\n",
       "    <tr>\n",
       "      <th>23</th>\n",
       "      <td>943865</td>\n",
       "      <td>2018-04-04</td>\n",
       "      <td>CHESTER,KARL</td>\n",
       "    </tr>\n",
       "  </tbody>\n",
       "</table>\n",
       "</div>"
      ],
      "text/plain": [
       "      hars admit_date                    pat_name\n",
       "12   33157 2018-03-27  SEPULVEDAGUERRERO,ANEUDY R\n",
       "20  929795 2018-04-03                CHESTER,KARL\n",
       "22  938157 2018-03-30         BRIERCHECK,EDWARD L\n",
       "23  943865 2018-04-04                CHESTER,KARL"
      ]
     },
     "execution_count": 38,
     "metadata": {},
     "output_type": "execute_result"
    }
   ],
   "source": [
    "naccounts[naccounts['admit_date'] > '2018-03-01']"
   ]
  },
  {
   "cell_type": "code",
   "execution_count": 47,
   "metadata": {},
   "outputs": [
    {
     "ename": "KeyError",
     "evalue": "\"None of ['admit_date'] are in the columns\"",
     "output_type": "error",
     "traceback": [
      "\u001b[1;31m---------------------------------------------------------------------------\u001b[0m",
      "\u001b[1;31mKeyError\u001b[0m                                  Traceback (most recent call last)",
      "\u001b[1;32m<ipython-input-47-b61fa6ab0a61>\u001b[0m in \u001b[0;36m<module>\u001b[1;34m\u001b[0m\n\u001b[1;32m----> 1\u001b[1;33m \u001b[0mnaccounts\u001b[0m \u001b[1;33m=\u001b[0m \u001b[0mnaccounts\u001b[0m\u001b[1;33m.\u001b[0m\u001b[0mset_index\u001b[0m\u001b[1;33m(\u001b[0m\u001b[1;33m[\u001b[0m\u001b[1;34m'admit_date'\u001b[0m\u001b[1;33m]\u001b[0m\u001b[1;33m)\u001b[0m\u001b[1;33m\u001b[0m\u001b[1;33m\u001b[0m\u001b[0m\n\u001b[0m",
      "\u001b[1;32m~\\AppData\\Roaming\\Python\\Python37\\site-packages\\pandas\\core\\frame.py\u001b[0m in \u001b[0;36mset_index\u001b[1;34m(self, keys, drop, append, inplace, verify_integrity)\u001b[0m\n\u001b[0;32m   4301\u001b[0m \u001b[1;33m\u001b[0m\u001b[0m\n\u001b[0;32m   4302\u001b[0m         \u001b[1;32mif\u001b[0m \u001b[0mmissing\u001b[0m\u001b[1;33m:\u001b[0m\u001b[1;33m\u001b[0m\u001b[1;33m\u001b[0m\u001b[0m\n\u001b[1;32m-> 4303\u001b[1;33m             \u001b[1;32mraise\u001b[0m \u001b[0mKeyError\u001b[0m\u001b[1;33m(\u001b[0m\u001b[1;34mf\"None of {missing} are in the columns\"\u001b[0m\u001b[1;33m)\u001b[0m\u001b[1;33m\u001b[0m\u001b[1;33m\u001b[0m\u001b[0m\n\u001b[0m\u001b[0;32m   4304\u001b[0m \u001b[1;33m\u001b[0m\u001b[0m\n\u001b[0;32m   4305\u001b[0m         \u001b[1;32mif\u001b[0m \u001b[0minplace\u001b[0m\u001b[1;33m:\u001b[0m\u001b[1;33m\u001b[0m\u001b[1;33m\u001b[0m\u001b[0m\n",
      "\u001b[1;31mKeyError\u001b[0m: \"None of ['admit_date'] are in the columns\""
     ]
    }
   ],
   "source": [
    "naccounts = naccounts.set_index(['admit_date'])"
   ]
  },
  {
   "cell_type": "code",
   "execution_count": 46,
   "metadata": {},
   "outputs": [
    {
     "data": {
      "text/html": [
       "<div>\n",
       "<style scoped>\n",
       "    .dataframe tbody tr th:only-of-type {\n",
       "        vertical-align: middle;\n",
       "    }\n",
       "\n",
       "    .dataframe tbody tr th {\n",
       "        vertical-align: top;\n",
       "    }\n",
       "\n",
       "    .dataframe thead th {\n",
       "        text-align: right;\n",
       "    }\n",
       "</style>\n",
       "<table border=\"1\" class=\"dataframe\">\n",
       "  <thead>\n",
       "    <tr style=\"text-align: right;\">\n",
       "      <th></th>\n",
       "      <th>hars</th>\n",
       "      <th>pat_name</th>\n",
       "    </tr>\n",
       "    <tr>\n",
       "      <th>admit_date</th>\n",
       "      <th></th>\n",
       "      <th></th>\n",
       "    </tr>\n",
       "  </thead>\n",
       "  <tbody>\n",
       "    <tr>\n",
       "      <th>2018-02-27</th>\n",
       "      <td>32673</td>\n",
       "      <td>WEBER,DAVID</td>\n",
       "    </tr>\n",
       "    <tr>\n",
       "      <th>2018-03-27</th>\n",
       "      <td>33157</td>\n",
       "      <td>SEPULVEDAGUERRERO,ANEUDY R</td>\n",
       "    </tr>\n",
       "    <tr>\n",
       "      <th>2018-03-30</th>\n",
       "      <td>938157</td>\n",
       "      <td>BRIERCHECK,EDWARD L</td>\n",
       "    </tr>\n",
       "  </tbody>\n",
       "</table>\n",
       "</div>"
      ],
      "text/plain": [
       "              hars                    pat_name\n",
       "admit_date                                    \n",
       "2018-02-27   32673                 WEBER,DAVID\n",
       "2018-03-27   33157  SEPULVEDAGUERRERO,ANEUDY R\n",
       "2018-03-30  938157         BRIERCHECK,EDWARD L"
      ]
     },
     "execution_count": 46,
     "metadata": {},
     "output_type": "execute_result"
    }
   ],
   "source": [
    "naccounts.loc['2018-02-01':'2018-04-01']"
   ]
  },
  {
   "cell_type": "code",
   "execution_count": 48,
   "metadata": {},
   "outputs": [
    {
     "data": {
      "text/html": [
       "<div>\n",
       "<style scoped>\n",
       "    .dataframe tbody tr th:only-of-type {\n",
       "        vertical-align: middle;\n",
       "    }\n",
       "\n",
       "    .dataframe tbody tr th {\n",
       "        vertical-align: top;\n",
       "    }\n",
       "\n",
       "    .dataframe thead th {\n",
       "        text-align: right;\n",
       "    }\n",
       "</style>\n",
       "<table border=\"1\" class=\"dataframe\">\n",
       "  <thead>\n",
       "    <tr style=\"text-align: right;\">\n",
       "      <th></th>\n",
       "      <th>admit_date</th>\n",
       "      <th>hars</th>\n",
       "      <th>pat_name</th>\n",
       "    </tr>\n",
       "  </thead>\n",
       "  <tbody>\n",
       "    <tr>\n",
       "      <th>0</th>\n",
       "      <td>2018-02-27</td>\n",
       "      <td>32673</td>\n",
       "      <td>WEBER,DAVID</td>\n",
       "    </tr>\n",
       "    <tr>\n",
       "      <th>1</th>\n",
       "      <td>2018-03-27</td>\n",
       "      <td>33157</td>\n",
       "      <td>SEPULVEDAGUERRERO,ANEUDY R</td>\n",
       "    </tr>\n",
       "    <tr>\n",
       "      <th>2</th>\n",
       "      <td>2018-03-30</td>\n",
       "      <td>938157</td>\n",
       "      <td>BRIERCHECK,EDWARD L</td>\n",
       "    </tr>\n",
       "  </tbody>\n",
       "</table>\n",
       "</div>"
      ],
      "text/plain": [
       "  admit_date    hars                    pat_name\n",
       "0 2018-02-27   32673                 WEBER,DAVID\n",
       "1 2018-03-27   33157  SEPULVEDAGUERRERO,ANEUDY R\n",
       "2 2018-03-30  938157         BRIERCHECK,EDWARD L"
      ]
     },
     "execution_count": 48,
     "metadata": {},
     "output_type": "execute_result"
    }
   ],
   "source": [
    "naccounts.loc['2018-02-01':'2018-04-01'].reset_index()"
   ]
  },
  {
   "cell_type": "code",
   "execution_count": 49,
   "metadata": {},
   "outputs": [
    {
     "data": {
      "text/html": [
       "<div>\n",
       "<style scoped>\n",
       "    .dataframe tbody tr th:only-of-type {\n",
       "        vertical-align: middle;\n",
       "    }\n",
       "\n",
       "    .dataframe tbody tr th {\n",
       "        vertical-align: top;\n",
       "    }\n",
       "\n",
       "    .dataframe thead th {\n",
       "        text-align: right;\n",
       "    }\n",
       "</style>\n",
       "<table border=\"1\" class=\"dataframe\">\n",
       "  <thead>\n",
       "    <tr style=\"text-align: right;\">\n",
       "      <th></th>\n",
       "      <th>hars</th>\n",
       "      <th>pat_name</th>\n",
       "    </tr>\n",
       "    <tr>\n",
       "      <th>admit_date</th>\n",
       "      <th></th>\n",
       "      <th></th>\n",
       "    </tr>\n",
       "  </thead>\n",
       "  <tbody>\n",
       "    <tr>\n",
       "      <th>2018-01-17</th>\n",
       "      <td>31743</td>\n",
       "      <td>SANCHEZ,VERONICA</td>\n",
       "    </tr>\n",
       "    <tr>\n",
       "      <th>2018-01-23</th>\n",
       "      <td>31795</td>\n",
       "      <td>ROMERO,MAYRA A</td>\n",
       "    </tr>\n",
       "    <tr>\n",
       "      <th>2018-02-27</th>\n",
       "      <td>32673</td>\n",
       "      <td>WEBER,DAVID</td>\n",
       "    </tr>\n",
       "    <tr>\n",
       "      <th>2018-03-27</th>\n",
       "      <td>33157</td>\n",
       "      <td>SEPULVEDAGUERRERO,ANEUDY R</td>\n",
       "    </tr>\n",
       "    <tr>\n",
       "      <th>2018-04-03</th>\n",
       "      <td>929795</td>\n",
       "      <td>CHESTER,KARL</td>\n",
       "    </tr>\n",
       "    <tr>\n",
       "      <th>2018-03-30</th>\n",
       "      <td>938157</td>\n",
       "      <td>BRIERCHECK,EDWARD L</td>\n",
       "    </tr>\n",
       "    <tr>\n",
       "      <th>2018-04-04</th>\n",
       "      <td>943865</td>\n",
       "      <td>CHESTER,KARL</td>\n",
       "    </tr>\n",
       "  </tbody>\n",
       "</table>\n",
       "</div>"
      ],
      "text/plain": [
       "              hars                    pat_name\n",
       "admit_date                                    \n",
       "2018-01-17   31743            SANCHEZ,VERONICA\n",
       "2018-01-23   31795              ROMERO,MAYRA A\n",
       "2018-02-27   32673                 WEBER,DAVID\n",
       "2018-03-27   33157  SEPULVEDAGUERRERO,ANEUDY R\n",
       "2018-04-03  929795                CHESTER,KARL\n",
       "2018-03-30  938157         BRIERCHECK,EDWARD L\n",
       "2018-04-04  943865                CHESTER,KARL"
      ]
     },
     "execution_count": 49,
     "metadata": {},
     "output_type": "execute_result"
    }
   ],
   "source": [
    "mask = (df['date'] > '2000-6-1') & (df['date'] <= '2000-6-10')\n",
    "print(df.loc[mask])"
   ]
  },
  {
   "cell_type": "code",
   "execution_count": 57,
   "metadata": {},
   "outputs": [
    {
     "data": {
      "text/html": [
       "<div>\n",
       "<style scoped>\n",
       "    .dataframe tbody tr th:only-of-type {\n",
       "        vertical-align: middle;\n",
       "    }\n",
       "\n",
       "    .dataframe tbody tr th {\n",
       "        vertical-align: top;\n",
       "    }\n",
       "\n",
       "    .dataframe thead th {\n",
       "        text-align: right;\n",
       "    }\n",
       "</style>\n",
       "<table border=\"1\" class=\"dataframe\">\n",
       "  <thead>\n",
       "    <tr style=\"text-align: right;\">\n",
       "      <th></th>\n",
       "      <th>admit_date</th>\n",
       "      <th>hars</th>\n",
       "      <th>pat_name</th>\n",
       "    </tr>\n",
       "  </thead>\n",
       "  <tbody>\n",
       "    <tr>\n",
       "      <th>2</th>\n",
       "      <td>2018-02-27</td>\n",
       "      <td>32673</td>\n",
       "      <td>WEBER,DAVID</td>\n",
       "    </tr>\n",
       "    <tr>\n",
       "      <th>3</th>\n",
       "      <td>2018-03-27</td>\n",
       "      <td>33157</td>\n",
       "      <td>SEPULVEDAGUERRERO,ANEUDY R</td>\n",
       "    </tr>\n",
       "    <tr>\n",
       "      <th>5</th>\n",
       "      <td>2018-03-30</td>\n",
       "      <td>938157</td>\n",
       "      <td>BRIERCHECK,EDWARD L</td>\n",
       "    </tr>\n",
       "  </tbody>\n",
       "</table>\n",
       "</div>"
      ],
      "text/plain": [
       "  admit_date    hars                    pat_name\n",
       "2 2018-02-27   32673                 WEBER,DAVID\n",
       "3 2018-03-27   33157  SEPULVEDAGUERRERO,ANEUDY R\n",
       "5 2018-03-30  938157         BRIERCHECK,EDWARD L"
      ]
     },
     "execution_count": 57,
     "metadata": {},
     "output_type": "execute_result"
    }
   ],
   "source": [
    "naccounts.loc[(naccounts['admit_date'] > '2018-02-01') & (naccounts['admit_date'] <= '2018-04-01')]"
   ]
  },
  {
   "cell_type": "code",
   "execution_count": 62,
   "metadata": {},
   "outputs": [],
   "source": [
    "naccounts = naccounts.set_index(['admit_date'])"
   ]
  },
  {
   "cell_type": "code",
   "execution_count": 63,
   "metadata": {},
   "outputs": [
    {
     "data": {
      "text/html": [
       "<div>\n",
       "<style scoped>\n",
       "    .dataframe tbody tr th:only-of-type {\n",
       "        vertical-align: middle;\n",
       "    }\n",
       "\n",
       "    .dataframe tbody tr th {\n",
       "        vertical-align: top;\n",
       "    }\n",
       "\n",
       "    .dataframe thead th {\n",
       "        text-align: right;\n",
       "    }\n",
       "</style>\n",
       "<table border=\"1\" class=\"dataframe\">\n",
       "  <thead>\n",
       "    <tr style=\"text-align: right;\">\n",
       "      <th></th>\n",
       "      <th>hars</th>\n",
       "      <th>pat_name</th>\n",
       "    </tr>\n",
       "    <tr>\n",
       "      <th>admit_date</th>\n",
       "      <th></th>\n",
       "      <th></th>\n",
       "    </tr>\n",
       "  </thead>\n",
       "  <tbody>\n",
       "    <tr>\n",
       "      <th>2018-02-27</th>\n",
       "      <td>32673</td>\n",
       "      <td>WEBER,DAVID</td>\n",
       "    </tr>\n",
       "    <tr>\n",
       "      <th>2018-03-27</th>\n",
       "      <td>33157</td>\n",
       "      <td>SEPULVEDAGUERRERO,ANEUDY R</td>\n",
       "    </tr>\n",
       "    <tr>\n",
       "      <th>2018-03-30</th>\n",
       "      <td>938157</td>\n",
       "      <td>BRIERCHECK,EDWARD L</td>\n",
       "    </tr>\n",
       "  </tbody>\n",
       "</table>\n",
       "</div>"
      ],
      "text/plain": [
       "              hars                    pat_name\n",
       "admit_date                                    \n",
       "2018-02-27   32673                 WEBER,DAVID\n",
       "2018-03-27   33157  SEPULVEDAGUERRERO,ANEUDY R\n",
       "2018-03-30  938157         BRIERCHECK,EDWARD L"
      ]
     },
     "execution_count": 63,
     "metadata": {},
     "output_type": "execute_result"
    }
   ],
   "source": [
    "naccounts.loc['2018-02-01':'2018-04-01']"
   ]
  },
  {
   "cell_type": "code",
   "execution_count": null,
   "metadata": {},
   "outputs": [],
   "source": []
  }
 ],
 "metadata": {
  "kernelspec": {
   "display_name": "Python 3",
   "language": "python",
   "name": "python3"
  },
  "language_info": {
   "codemirror_mode": {
    "name": "ipython",
    "version": 3
   },
   "file_extension": ".py",
   "mimetype": "text/x-python",
   "name": "python",
   "nbconvert_exporter": "python",
   "pygments_lexer": "ipython3",
   "version": "3.7.4"
  }
 },
 "nbformat": 4,
 "nbformat_minor": 2
}
